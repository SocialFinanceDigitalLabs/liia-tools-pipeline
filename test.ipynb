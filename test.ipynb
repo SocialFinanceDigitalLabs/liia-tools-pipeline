{
 "cells": [
  {
   "cell_type": "code",
   "execution_count": 2,
   "id": "d7f0aabf",
   "metadata": {},
   "outputs": [
    {
     "data": {
      "application/vnd.microsoft.datawrangler.viewer.v0+json": {
       "columns": [
        {
         "name": "LAchildID",
         "rawType": "object",
         "type": "string"
        },
        {
         "name": "Date",
         "rawType": "int64",
         "type": "integer"
        },
        {
         "name": "Type",
         "rawType": "int64",
         "type": "integer"
        },
        {
         "name": "CINreferralDate",
         "rawType": "int64",
         "type": "integer"
        },
        {
         "name": "ReferralSource",
         "rawType": "int64",
         "type": "integer"
        },
        {
         "name": "PrimaryNeedCode",
         "rawType": "int64",
         "type": "integer"
        },
        {
         "name": "CINclosureDate",
         "rawType": "int64",
         "type": "integer"
        },
        {
         "name": "ReasonForClosure",
         "rawType": "int64",
         "type": "integer"
        },
        {
         "name": "DateOfInitialCPC",
         "rawType": "int64",
         "type": "integer"
        },
        {
         "name": "ReferralNFA",
         "rawType": "int64",
         "type": "integer"
        },
        {
         "name": "CINPlanStartDate",
         "rawType": "int64",
         "type": "integer"
        },
        {
         "name": "CINPlanEndDate",
         "rawType": "int64",
         "type": "integer"
        },
        {
         "name": "S47ActualStartDate",
         "rawType": "int64",
         "type": "integer"
        },
        {
         "name": "InitialCPCtarget",
         "rawType": "int64",
         "type": "integer"
        },
        {
         "name": "ICPCnotRequired",
         "rawType": "int64",
         "type": "integer"
        },
        {
         "name": "AssessmentActualStartDate",
         "rawType": "int64",
         "type": "integer"
        },
        {
         "name": "AssessmentInternalReviewDate",
         "rawType": "int64",
         "type": "integer"
        },
        {
         "name": "AssessmentAuthorisationDate",
         "rawType": "int64",
         "type": "integer"
        },
        {
         "name": "Factors",
         "rawType": "int64",
         "type": "integer"
        },
        {
         "name": "CPPstartDate",
         "rawType": "int64",
         "type": "integer"
        },
        {
         "name": "CPPendDate",
         "rawType": "int64",
         "type": "integer"
        },
        {
         "name": "InitialCategoryOfAbuse",
         "rawType": "int64",
         "type": "integer"
        },
        {
         "name": "LatestCategoryOfAbuse",
         "rawType": "int64",
         "type": "integer"
        },
        {
         "name": "NumberOfPreviousCPP",
         "rawType": "int64",
         "type": "integer"
        },
        {
         "name": "UPN",
         "rawType": "int64",
         "type": "integer"
        },
        {
         "name": "FormerUPN",
         "rawType": "int64",
         "type": "integer"
        },
        {
         "name": "UPNunknown",
         "rawType": "int64",
         "type": "integer"
        },
        {
         "name": "PersonBirthDate",
         "rawType": "int64",
         "type": "integer"
        },
        {
         "name": "ExpectedPersonBirthDate",
         "rawType": "int64",
         "type": "integer"
        },
        {
         "name": "GenderCurrent",
         "rawType": "int64",
         "type": "integer"
        },
        {
         "name": "Sex",
         "rawType": "int64",
         "type": "integer"
        },
        {
         "name": "PersonDeathDate",
         "rawType": "int64",
         "type": "integer"
        },
        {
         "name": "PersonSchoolYear",
         "rawType": "int64",
         "type": "integer"
        },
        {
         "name": "Ethnicity",
         "rawType": "int64",
         "type": "integer"
        },
        {
         "name": "Disabilities",
         "rawType": "int64",
         "type": "integer"
        },
        {
         "name": "LA",
         "rawType": "int64",
         "type": "integer"
        },
        {
         "name": "Year",
         "rawType": "int64",
         "type": "integer"
        }
       ],
       "ref": "c2116ce8-791f-44d1-b94d-ee4c11260eac",
       "rows": [
        [
         "123456_TT1",
         "10",
         "10",
         "10",
         "10",
         "10",
         "10",
         "10",
         "10",
         "10",
         "2",
         "2",
         "1",
         "1",
         "1",
         "2",
         "2",
         "2",
         "2",
         "3",
         "3",
         "3",
         "3",
         "3",
         "10",
         "10",
         "10",
         "10",
         "10",
         "10",
         "0",
         "10",
         "10",
         "10",
         "10",
         "10",
         "10"
        ],
        [
         "249901_TT1",
         "33440",
         "33440",
         "33440",
         "33440",
         "33440",
         "33440",
         "33440",
         "33440",
         "33440",
         "6688",
         "6688",
         "3344",
         "3344",
         "3344",
         "6688",
         "6688",
         "6688",
         "6688",
         "10032",
         "10032",
         "10032",
         "10032",
         "10032",
         "33440",
         "33440",
         "33440",
         "33440",
         "33440",
         "33440",
         "0",
         "33440",
         "33440",
         "33440",
         "33440",
         "33440",
         "33440"
        ]
       ],
       "shape": {
        "columns": 36,
        "rows": 2
       }
      },
      "text/html": [
       "<div>\n",
       "<style scoped>\n",
       "    .dataframe tbody tr th:only-of-type {\n",
       "        vertical-align: middle;\n",
       "    }\n",
       "\n",
       "    .dataframe tbody tr th {\n",
       "        vertical-align: top;\n",
       "    }\n",
       "\n",
       "    .dataframe thead th {\n",
       "        text-align: right;\n",
       "    }\n",
       "</style>\n",
       "<table border=\"1\" class=\"dataframe\">\n",
       "  <thead>\n",
       "    <tr style=\"text-align: right;\">\n",
       "      <th></th>\n",
       "      <th>Date</th>\n",
       "      <th>Type</th>\n",
       "      <th>CINreferralDate</th>\n",
       "      <th>ReferralSource</th>\n",
       "      <th>PrimaryNeedCode</th>\n",
       "      <th>CINclosureDate</th>\n",
       "      <th>ReasonForClosure</th>\n",
       "      <th>DateOfInitialCPC</th>\n",
       "      <th>ReferralNFA</th>\n",
       "      <th>CINPlanStartDate</th>\n",
       "      <th>...</th>\n",
       "      <th>PersonBirthDate</th>\n",
       "      <th>ExpectedPersonBirthDate</th>\n",
       "      <th>GenderCurrent</th>\n",
       "      <th>Sex</th>\n",
       "      <th>PersonDeathDate</th>\n",
       "      <th>PersonSchoolYear</th>\n",
       "      <th>Ethnicity</th>\n",
       "      <th>Disabilities</th>\n",
       "      <th>LA</th>\n",
       "      <th>Year</th>\n",
       "    </tr>\n",
       "    <tr>\n",
       "      <th>LAchildID</th>\n",
       "      <th></th>\n",
       "      <th></th>\n",
       "      <th></th>\n",
       "      <th></th>\n",
       "      <th></th>\n",
       "      <th></th>\n",
       "      <th></th>\n",
       "      <th></th>\n",
       "      <th></th>\n",
       "      <th></th>\n",
       "      <th></th>\n",
       "      <th></th>\n",
       "      <th></th>\n",
       "      <th></th>\n",
       "      <th></th>\n",
       "      <th></th>\n",
       "      <th></th>\n",
       "      <th></th>\n",
       "      <th></th>\n",
       "      <th></th>\n",
       "      <th></th>\n",
       "    </tr>\n",
       "  </thead>\n",
       "  <tbody>\n",
       "    <tr>\n",
       "      <th>123456_TT1</th>\n",
       "      <td>10</td>\n",
       "      <td>10</td>\n",
       "      <td>10</td>\n",
       "      <td>10</td>\n",
       "      <td>10</td>\n",
       "      <td>10</td>\n",
       "      <td>10</td>\n",
       "      <td>10</td>\n",
       "      <td>10</td>\n",
       "      <td>2</td>\n",
       "      <td>...</td>\n",
       "      <td>10</td>\n",
       "      <td>10</td>\n",
       "      <td>10</td>\n",
       "      <td>0</td>\n",
       "      <td>10</td>\n",
       "      <td>10</td>\n",
       "      <td>10</td>\n",
       "      <td>10</td>\n",
       "      <td>10</td>\n",
       "      <td>10</td>\n",
       "    </tr>\n",
       "    <tr>\n",
       "      <th>249901_TT1</th>\n",
       "      <td>33440</td>\n",
       "      <td>33440</td>\n",
       "      <td>33440</td>\n",
       "      <td>33440</td>\n",
       "      <td>33440</td>\n",
       "      <td>33440</td>\n",
       "      <td>33440</td>\n",
       "      <td>33440</td>\n",
       "      <td>33440</td>\n",
       "      <td>6688</td>\n",
       "      <td>...</td>\n",
       "      <td>33440</td>\n",
       "      <td>33440</td>\n",
       "      <td>33440</td>\n",
       "      <td>0</td>\n",
       "      <td>33440</td>\n",
       "      <td>33440</td>\n",
       "      <td>33440</td>\n",
       "      <td>33440</td>\n",
       "      <td>33440</td>\n",
       "      <td>33440</td>\n",
       "    </tr>\n",
       "  </tbody>\n",
       "</table>\n",
       "<p>2 rows × 36 columns</p>\n",
       "</div>"
      ],
      "text/plain": [
       "             Date   Type  CINreferralDate  ReferralSource  PrimaryNeedCode  \\\n",
       "LAchildID                                                                    \n",
       "123456_TT1     10     10               10              10               10   \n",
       "249901_TT1  33440  33440            33440           33440            33440   \n",
       "\n",
       "            CINclosureDate  ReasonForClosure  DateOfInitialCPC  ReferralNFA  \\\n",
       "LAchildID                                                                     \n",
       "123456_TT1              10                10                10           10   \n",
       "249901_TT1           33440             33440             33440        33440   \n",
       "\n",
       "            CINPlanStartDate  ...  PersonBirthDate  ExpectedPersonBirthDate  \\\n",
       "LAchildID                     ...                                             \n",
       "123456_TT1                 2  ...               10                       10   \n",
       "249901_TT1              6688  ...            33440                    33440   \n",
       "\n",
       "            GenderCurrent  Sex  PersonDeathDate  PersonSchoolYear  Ethnicity  \\\n",
       "LAchildID                                                                      \n",
       "123456_TT1             10    0               10                10         10   \n",
       "249901_TT1          33440    0            33440             33440      33440   \n",
       "\n",
       "            Disabilities     LA   Year  \n",
       "LAchildID                               \n",
       "123456_TT1            10     10     10  \n",
       "249901_TT1         33440  33440  33440  \n",
       "\n",
       "[2 rows x 36 columns]"
      ]
     },
     "execution_count": 2,
     "metadata": {},
     "output_type": "execute_result"
    }
   ],
   "source": [
    "import pandas as pd\n",
    "\n",
    "data = pd.read_csv(r\"C:\\Users\\patrick.troy\\Documents\\Work\\LIIA\\LIIA tests\\pipeline\\first_output\\workspace\\current\\TT1\\cin\\TT1_2024_cin.csv\")\n",
    "\n",
    "child_id = \"249940\"\n",
    "\n",
    "data.groupby(\"LAchildID\").count()"
   ]
  },
  {
   "cell_type": "code",
   "execution_count": null,
   "id": "d6027888",
   "metadata": {},
   "outputs": [
    {
     "name": "stdout",
     "output_type": "stream",
     "text": [
      "<Message>\n"
     ]
    }
   ],
   "source": [
    "print(\n",
    "    \"<Message>\"\n",
    "    )"
   ]
  }
 ],
 "metadata": {
  "kernelspec": {
   "display_name": "liiatools-dagster-whICwMmK-py3.10",
   "language": "python",
   "name": "python3"
  },
  "language_info": {
   "codemirror_mode": {
    "name": "ipython",
    "version": 3
   },
   "file_extension": ".py",
   "mimetype": "text/x-python",
   "name": "python",
   "nbconvert_exporter": "python",
   "pygments_lexer": "ipython3",
   "version": "3.10.11"
  }
 },
 "nbformat": 4,
 "nbformat_minor": 5
}
